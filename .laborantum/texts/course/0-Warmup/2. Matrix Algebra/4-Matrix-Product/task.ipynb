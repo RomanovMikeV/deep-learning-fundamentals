{
    "cells": [
        {
            "cell_type": "code",
            "execution_count": 13,
            "id": "acceacb5",
            "metadata": {},
            "outputs": [],
            "source": [
                "import numpy as np\n",
                "import json_tricks\n",
                "\n",
                "answer = {}\n",
                "\n",
                "\n",
                "inputs = json_tricks.load('inputs/inputs.json')\n"
            ]
        },
        {
            "cell_type": "markdown",
            "id": "2a65a805",
            "metadata": {},
            "source": [
                "# Matrix Product II\n",
                "\n",
                "$$A_{5 \\times 10} \\  B_{10 \\times 2}\\ C_{2 \\times 30}\\ D_{30 \\times 3}\\ E_{3 \\times 9}$$\n",
                "\n",
                "1. What will be the shape of the resulting matrix?\n",
                "2. How many multiplication of numbers are required at best?"
            ]
        },
        {
            "cell_type": "code",
            "execution_count": 4,
            "id": "70ec671d",
            "metadata": {},
            "outputs": [],
            "source": [
                "answer['task1'] = {\n",
                "    '1': (5, 9),\n",
                "    '2': 424\n",
                "}\n",
                "\n"
            ]
        },
        {
            "cell_type": "markdown",
            "id": "a134c56f",
            "metadata": {},
            "source": [
                "# Numpy expression\n",
                "\n",
                "Using Numpy, write a function that calculates the \n",
                "following expression:\n",
                "\n",
                "$$\\exp(A^T(B + 2C) + 3I) \\mathbf x,$$\n",
                "\n",
                "where $I$ is an identity matrix of the necessary shape."
            ]
        },
        {
            "cell_type": "code",
            "execution_count": 8,
            "id": "71c02732",
            "metadata": {},
            "outputs": [],
            "source": [
                "def numpy_expression(A, B, C, x):\n",
                "    res = x\n",
                "    ## YOUR CODE HERE\n",
                "    res_0 = np.dot(A.T, (B + 2*C))\n",
                "    res_1 = res_0 + 3*np.eye(res_0.shape[0], res_0.shape[1])\n",
                "    return np.exp(res_1).dot(x)"
            ]
        },
        {
            "cell_type": "code",
            "execution_count": 6,
            "id": "e93e082d",
            "metadata": {},
            "outputs": [],
            "source": [
                "answer['task2'] = []\n",
                "for one_input in inputs['task2']:\n",
                "    answer['task2'].append(numpy_expression(**one_input))"
            ]
        },
        {
            "cell_type": "markdown",
            "id": "2aef45b9",
            "metadata": {},
            "source": [
                "# Einstein's Rule\n",
                "\n",
                "In *Tensor Algebra*, a direct generalization of the Linear Algebra to the case of $N$-dimentional tables called *tensors* (normal matrix), the Einstein's rule exists.\n",
                "\n",
                "It works as follows: if you see a duplicating upper and lower index in the formula, that means, this index convolves.\n",
                "\n",
                "For example, the following tensor expression, summation and matrix product are equivalent:\n",
                "\n",
                "$$a_k^l b_l^m = \\sum_{l=1}^L a_k^l b_l^m = AB$$\n",
                "\n",
                "In this notation subscript means row index and superscript means column index.\n",
                "\n",
                "<details>\n",
                "<summary> Note </summary>\n",
                "\n",
                "> [!NOTE]\n",
                "> Also at some point it will be important to know that:\n",
                "> * lower index represents a contravariant dimension of a\n",
                "> tensor\n",
                "> * upper index represents a covariant dimension \n",
                "> of tensor. But let us omit this part for now.\n",
                "\n",
                "</details>\n",
                "\n",
                "# Task\n",
                "\n",
                "Calculate the following expression written using Einstein's \n",
                "rule:\n",
                "\n",
                "$$a_k^m b_m^n c_n^o d_l^k$$"
            ]
        },
        {
            "cell_type": "code",
            "execution_count": 9,
            "id": "3feb6914",
            "metadata": {},
            "outputs": [],
            "source": [
                "def einsteins_rule(A, B, C, D):\n",
                "    res = A\n",
                "    ## YOUR CODE HERE\n",
                "    res_1 = np.dot(np.dot(A,B), C)\n",
                "    res_2 = np.dot(D, res_1)\n",
                "    return res_2"
            ]
        },
        {
            "cell_type": "code",
            "execution_count": 10,
            "id": "f9cd1e7e",
            "metadata": {},
            "outputs": [],
            "source": [
                "answer['task3'] = []\n",
                "for one_input in inputs['task3']:\n",
                "    answer['task3'].append(einsteins_rule(**one_input))"
            ]
        },
        {
            "cell_type": "markdown",
            "id": "ad37cd42",
            "metadata": {},
            "source": [
                "# Diagonal Matrix Product\n",
                "\n",
                "You are given two square matrices: $A$ and $D$, where $A$ is a \n",
                "full matrix and $D$ is a diagonal matrix:\n",
                "\n",
                "$$\n",
                "A = \\begin{bmatrix}\n",
                "- & \\mathbf a_1 & - \\\\\n",
                "& \\vdots & \\\\\n",
                "- & \\mathbf a_N & - \\\\\n",
                "\\end{bmatrix}\n",
                "$$\n",
                "\n",
                "$$\n",
                "D = \\textrm{diag}(d_1, d_2, \\dots, d_N) = \\begin{bmatrix}\n",
                "d_1 & & & & \\\\\n",
                "& d_2 & & & \\\\\n",
                "& & d_3 & & \\\\\n",
                "& & & \\ddots & \\\\\n",
                "& & & & d_N \n",
                "\\end{bmatrix}\n",
                "$$\n",
                "\n",
                "Write a program to calculate the result of $DA$ and $AD$ in \n",
                "the fastest possible way."
            ]
        },
        {
            "cell_type": "code",
            "execution_count": 20,
            "id": "af333a41",
            "metadata": {},
            "outputs": [],
            "source": [
                "def diag_prod_DA(A, D):\n",
                "    res = A\n",
                "    ## YOUR CODE HERE\n",
                "    D_diag_col = np.diag(D).reshape(-1, 1)\n",
                "    print(D_diag_col)\n",
                "    res = A * D_diag_col\n",
                "    return res\n",
                "\n",
                "def diag_prod_AD(A, D):\n",
                "    res = A\n",
                "    ## YOUR CODE HERE\n",
                "    D_diag_row = np.diag(D).reshape(1, -1)\n",
                "    res = D_diag_row * A\n",
                "    return res"
            ]
        },
        {
            "cell_type": "code",
            "execution_count": 21,
            "id": "56a84c26",
            "metadata": {},
            "outputs": [
                {
                    "name": "stdout",
                    "output_type": "stream",
                    "text": [
                        "[[1]\n",
                        " [2]\n",
                        " [3]]\n",
                        "[[0.18111279 0.81990493 0.19941942]\n",
                        " [1.89075759 0.66159768 1.12433949]\n",
                        " [1.42805206 1.87420205 0.24734957]] [[0.18111279 1.63980985 0.59825825]\n",
                        " [0.9453788  0.66159768 1.68650923]\n",
                        " [0.47601735 1.24946803 0.24734957]]\n"
                    ]
                }
            ],
            "source": [
                "n = 3\n",
                "D = np.diag([1, 2, 3])  # Диагональная матрица\n",
                "A = np.random.rand(n, n)  # Полная матрица\n",
                "\n",
                "DA = diag_prod_DA(A, D)\n",
                "AD = diag_prod_AD(A, D)\n",
                "print(DA, AD)"
            ]
        },
        {
            "cell_type": "code",
            "execution_count": 12,
            "id": "68f65717",
            "metadata": {},
            "outputs": [],
            "source": [
                "answer['task4_1'] = []\n",
                "answer['task4_2'] = []\n",
                "for one_input in inputs['task4']:\n",
                "    answer['task4_1'].append(diag_prod_DA(**one_input))\n",
                "    answer['task4_2'].append(diag_prod_AD(**one_input))"
            ]
        },
        {
            "cell_type": "markdown",
            "id": "fc7b3dc4",
            "metadata": {},
            "source": [
                "# Sparse Matrix Product\n",
                "\n",
                "You are given two matrices of the same shape: $A$ and $B$. Matrix $A$ is full\n",
                "and is given in the form of `numpy.ndarray`.\n",
                "\n",
                "The second matrix $B$ is **sparse**. That means that the \n",
                "majority of the items are equal to $0$ except for $M$. This matrix is given\n",
                "as a set of non-zero elements of this matrix in form of $3 \\times M$ `numpy.ndarray` as row-column-value tuple (COO sparse matrix form):\n",
                "\n",
                "$$\n",
                "\\begin{bmatrix}\n",
                "r_1 & c_1 & v_1 \\\\\n",
                "r_2 & c_2 & v_2 \\\\\n",
                "& \\vdots & \\\\\n",
                "r_M & c_M & v_M \\\\\n",
                "\\end{bmatrix}\n",
                "$$\n",
                "\n",
                "If in this struct two items correspond to the same location, consider the latter is correct.\n",
                "\n",
                "Write the most efficient program that calculates $AB$.\n",
                "\n",
                "Also return the ratio between the number of multiplication operations that are needed to calculate the sparse product and the number of operations for full product."
            ]
        },
        {
            "cell_type": "code",
            "execution_count": null,
            "id": "6a439900",
            "metadata": {},
            "outputs": [],
            "source": [
                "def sparse_matrix_product(A, B_sparse):\n",
                "    print('A', A)\n",
                "    print('B_sparse', B_sparse)\n",
                "    res = A\n",
                "    ratio = 0\n",
                "\n",
                "    ## YOUR CODE HERE\n",
                "    sparse_rows, sparse_cols, sparse_data = B_sparse\n",
                "    row = np.asarray(sparse_rows)\n",
                "    col = np.asarray(sparse_cols)\n",
                "\n",
                "    # # Проверка отрицательных индексов\n",
                "    # if np.any(row < 0) or np.any(col < 0):\n",
                "    #     raise ValueError(\"Индексы должны быть неотрицательными\")\n",
                "\n",
                "    # print(row)\n",
                "    # print(col)\n",
                "    # print(B_sparse)\n",
                "\n",
                "    sparse_shape = (row.max() + 1 if len(row) > 0 else 0, \n",
                "                   col.max() + 1 if len(col) > 0 else 0)\n",
                "    k_sparse, n = sparse_shape\n",
                "    m, k_dense = A.shape\n",
                "\n",
                "    # if k_dense != k_sparse:\n",
                "    #     raise ValueError(f\"Несовместимые размеры: A.shape={A.shape}, B.shape={sparse_shape}\")\n",
                "\n",
                "    res = np.zeros((m, n))\n",
                "    nnz = len(sparse_data)\n",
                "    for idx in range(nnz):\n",
                "        val = sparse_data[idx]\n",
                "        i = row[idx]\n",
                "        j = col[idx]\n",
                "\n",
                "        # # Проверка границ индексов\n",
                "        # if i >= k_sparse:\n",
                "        #     raise ValueError(f\"Индекс строки {i} >= {k_sparse} (число строк в B)\")\n",
                "        # if j >= n:\n",
                "        #     raise ValueError(f\"Индекс столбца {j} >= {n} (число столбцов в B)\")\n",
                "\n",
                "        res[:, j] += A[:, i] * val\n",
                "\n",
                "    full_ops = m * k_dense * n\n",
                "    sparse_ops = m * nnz\n",
                "    ratio = sparse_ops / full_ops # if full_ops != 0 else 0.0\n",
                "\n",
                "    return res, ratio\n"
            ]
        },
        {
            "cell_type": "code",
            "execution_count": 32,
            "id": "2db5922f",
            "metadata": {},
            "outputs": [
                {
                    "name": "stdout",
                    "output_type": "stream",
                    "text": [
                        "A [[ 2 -1]\n",
                        " [ 0  0]]\n",
                        "B_sparse [[ 0  0  0  0]\n",
                        " [ 0  0  0  0]\n",
                        " [-2  0 -3  0]]\n",
                        "A [[-3  2]\n",
                        " [ 1  1]]\n",
                        "B_sparse [[ 0  0]\n",
                        " [ 1  1]\n",
                        " [-3  0]]\n",
                        "A [[ 1  2]\n",
                        " [-1 -3]]\n",
                        "B_sparse [[1]\n",
                        " [0]\n",
                        " [2]]\n",
                        "A [[-1 -2]\n",
                        " [ 0 -3]]\n",
                        "B_sparse [[ 1  0  0]\n",
                        " [ 0  0  1]\n",
                        " [-3  0  1]]\n",
                        "A [[-3 -1]\n",
                        " [ 2 -2]]\n",
                        "B_sparse [[1]\n",
                        " [1]\n",
                        " [2]]\n",
                        "A [[-2  2]\n",
                        " [-2 -1]]\n",
                        "B_sparse [[ 1  1  1]\n",
                        " [ 1  0  1]\n",
                        " [ 0 -3 -2]]\n",
                        "A [[-3  0]\n",
                        " [-3  2]]\n",
                        "B_sparse [[ 1]\n",
                        " [ 1]\n",
                        " [-1]]\n",
                        "A [[ 2 -1]\n",
                        " [ 0 -3]]\n",
                        "B_sparse [[ 1]\n",
                        " [ 0]\n",
                        " [-3]]\n",
                        "A [[ 0 -2]\n",
                        " [-3  0]]\n",
                        "B_sparse [[1]\n",
                        " [0]\n",
                        " [2]]\n",
                        "A [[ 0  1]\n",
                        " [-2  0]]\n",
                        "B_sparse [[ 1  0]\n",
                        " [ 0  1]\n",
                        " [-1  0]]\n"
                    ]
                }
            ],
            "source": [
                "answer['task5'] = []\n",
                "for one_input in inputs['task5']:\n",
                "    answer['task5'].append(sparse_matrix_product(**one_input))"
            ]
        },
        {
            "cell_type": "code",
            "execution_count": 11,
            "id": "08e12548",
            "metadata": {},
            "outputs": [
                {
                    "data": {
                        "text/plain": [
                            "'{\"task1\": {\"1\": \"5x9\", \"2\": 424}, \"task2\": [{\"__ndarray__\": [[7.0], [-6.0]], \"dtype\": \"float64\", \"shape\": [2, 1], \"Corder\": true}, {\"__ndarray__\": [[-5.0], [-24.0]], \"dtype\": \"float64\", \"shape\": [2, 1], \"Corder\": true}, {\"__ndarray__\": [[17.0], [-57.0]], \"dtype\": \"float64\", \"shape\": [2, 1], \"Corder\": true}, {\"__ndarray__\": [[-2.0], [-8.0]], \"dtype\": \"float64\", \"shape\": [2, 1], \"Corder\": true}, {\"__ndarray__\": [[48.0], [-16.0]], \"dtype\": \"float64\", \"shape\": [2, 1], \"Corder\": true}, {\"__ndarray__\": [[-9.0], [0.0]], \"dtype\": \"float64\", \"shape\": [2, 1], \"Corder\": true}, {\"__ndarray__\": [[-19.0], [10.0]], \"dtype\": \"float64\", \"shape\": [2, 1], \"Corder\": true}, {\"__ndarray__\": [[-28.0], [-27.0]], \"dtype\": \"float64\", \"shape\": [2, 1], \"Corder\": true}, {\"__ndarray__\": [[30.0], [16.0]], \"dtype\": \"float64\", \"shape\": [2, 1], \"Corder\": true}, {\"__ndarray__\": [[-16.0], [-2.0]], \"dtype\": \"float64\", \"shape\": [2, 1], \"Corder\": true}], \"task3\": [{\"__ndarray__\": [[24, 8], [6, 38]], \"dtype\": \"int64\", \"shape\": [2, 2], \"Corder\": true}, {\"__ndarray__\": [[48, 60], [32, 40]], \"dtype\": \"int64\", \"shape\": [2, 2], \"Corder\": true}, {\"__ndarray__\": [[-13, 13], [-15, 15]], \"dtype\": \"int64\", \"shape\": [2, 2], \"Corder\": true}, {\"__ndarray__\": [[7, -5], [4, -4]], \"dtype\": \"int64\", \"shape\": [2, 2], \"Corder\": true}, {\"__ndarray__\": [[-48, -36], [-76, -72]], \"dtype\": \"int64\", \"shape\": [2, 2], \"Corder\": true}, {\"__ndarray__\": [[-12, -12], [6, 6]], \"dtype\": \"int64\", \"shape\": [2, 2], \"Corder\": true}, {\"__ndarray__\": [[1, 4], [24, -12]], \"dtype\": \"int64\", \"shape\": [2, 2], \"Corder\": true}, {\"__ndarray__\": [[18, 14], [9, 10]], \"dtype\": \"int64\", \"shape\": [2, 2], \"Corder\": true}, {\"__ndarray__\": [[12, 0], [12, 0]], \"dtype\": \"int64\", \"shape\": [2, 2], \"Corder\": true}, {\"__ndarray__\": [[0, 2], [0, 0]], \"dtype\": \"int64\", \"shape\": [2, 2], \"Corder\": true}], \"task4_1\": [{\"__ndarray__\": [[-6], [0]], \"dtype\": \"int64\", \"shape\": [2, 1], \"Corder\": true}, {\"__ndarray__\": [[-4], [0]], \"dtype\": \"int64\", \"shape\": [2, 1], \"Corder\": true}, {\"__ndarray__\": [[-2], [4]], \"dtype\": \"int64\", \"shape\": [2, 1], \"Corder\": true}, {\"__ndarray__\": [[0], [0]], \"dtype\": \"int64\", \"shape\": [2, 1], \"Corder\": true}, {\"__ndarray__\": [[4], [-6]], \"dtype\": \"int64\", \"shape\": [2, 1], \"Corder\": true}, {\"__ndarray__\": [[15], [3]], \"dtype\": \"int64\", \"shape\": [2, 1], \"Corder\": true}, {\"__ndarray__\": [[6], [3]], \"dtype\": \"int64\", \"shape\": [2, 1], \"Corder\": true}, {\"__ndarray__\": [[0], [5]], \"dtype\": \"int64\", \"shape\": [2, 1], \"Corder\": true}, {\"__ndarray__\": [[4], [1]], \"dtype\": \"int64\", \"shape\": [2, 1], \"Corder\": true}, {\"__ndarray__\": [[-2], [2]], \"dtype\": \"int64\", \"shape\": [2, 1], \"Corder\": true}], \"task4_2\": [{\"__ndarray__\": [[-2, -4]], \"dtype\": \"int64\", \"shape\": [1, 2], \"Corder\": true}, {\"__ndarray__\": [[-4, 4]], \"dtype\": \"int64\", \"shape\": [1, 2], \"Corder\": true}, {\"__ndarray__\": [[1, -5]], \"dtype\": \"int64\", \"shape\": [1, 2], \"Corder\": true}, {\"__ndarray__\": [[0, 0]], \"dtype\": \"int64\", \"shape\": [1, 2], \"Corder\": true}, {\"__ndarray__\": [[-2, -8]], \"dtype\": \"int64\", \"shape\": [1, 2], \"Corder\": true}, {\"__ndarray__\": [[9, 9]], \"dtype\": \"int64\", \"shape\": [1, 2], \"Corder\": true}, {\"__ndarray__\": [[6, -6]], \"dtype\": \"int64\", \"shape\": [1, 2], \"Corder\": true}, {\"__ndarray__\": [[2, 1]], \"dtype\": \"int64\", \"shape\": [1, 2], \"Corder\": true}, {\"__ndarray__\": [[5, 4]], \"dtype\": \"int64\", \"shape\": [1, 2], \"Corder\": true}, {\"__ndarray__\": [[-1, 4]], \"dtype\": \"int64\", \"shape\": [1, 2], \"Corder\": true}], \"task5\": [[{\"__ndarray__\": [[-10.0], [0.0]], \"dtype\": \"float64\", \"shape\": [2, 1], \"Corder\": true}, 2.0], [{\"__ndarray__\": [[0.0, 9.0], [0.0, -3.0]], \"dtype\": \"float64\", \"shape\": [2, 2], \"Corder\": true}, 0.5], [{\"__ndarray__\": [[4.0], [-6.0]], \"dtype\": \"float64\", \"shape\": [2, 1], \"Corder\": true}, 0.5], [{\"__ndarray__\": [[6.0, -1.0], [9.0, 0.0]], \"dtype\": \"float64\", \"shape\": [2, 2], \"Corder\": true}, 0.75], [{\"__ndarray__\": [[0.0, -2.0], [0.0, -4.0]], \"dtype\": \"float64\", \"shape\": [2, 2], \"Corder\": true}, 0.25], [{\"__ndarray__\": [[-6.0, -4.0], [3.0, 2.0]], \"dtype\": \"float64\", \"shape\": [2, 2], \"Corder\": true}, 0.75], [{\"__ndarray__\": [[0.0, 0.0], [0.0, -2.0]], \"dtype\": \"float64\", \"shape\": [2, 2], \"Corder\": true}, 0.25], [{\"__ndarray__\": [[3.0], [9.0]], \"dtype\": \"float64\", \"shape\": [2, 1], \"Corder\": true}, 0.5], [{\"__ndarray__\": [[-4.0], [0.0]], \"dtype\": \"float64\", \"shape\": [2, 1], \"Corder\": true}, 0.5], [{\"__ndarray__\": [[-1.0, 0.0], [0.0, 0.0]], \"dtype\": \"float64\", \"shape\": [2, 2], \"Corder\": true}, 0.5]]}'"
                        ]
                    },
                    "execution_count": 11,
                    "metadata": {},
                    "output_type": "execute_result"
                }
            ],
            "source": [
                "json_tricks.dump(answer, '.answer.json')"
            ]
        }
    ],
    "metadata": {
        "kernelspec": {
            "display_name": "Python (Container)",
            "language": "python",
            "name": "container_env"
        },
        "language_info": {
            "codemirror_mode": {
                "name": "ipython",
                "version": 3
            },
            "file_extension": ".py",
            "mimetype": "text/x-python",
            "name": "python",
            "nbconvert_exporter": "python",
            "pygments_lexer": "ipython3",
            "version": "3.11.13"
        }
    },
    "nbformat": 4,
    "nbformat_minor": 5
}
