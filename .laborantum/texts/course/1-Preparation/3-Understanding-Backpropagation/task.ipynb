{
    "cells": [
        {
            "cell_type": "code",
            "execution_count": 1,
            "metadata": {},
            "outputs": [],
            "source": [
                "import json_tricks\n",
                "answer = {}\n",
                "\n",
                "\n",
                "inputs = json_tricks.load(open('inputs/inputs.json', 'r'))"
            ]
        },
        {
            "cell_type": "markdown",
            "metadata": {},
            "source": [
                "# Backpropagation Practice"
            ]
        },
        {
            "cell_type": "markdown",
            "metadata": {},
            "source": [
                "You are given a graph of operations:"
            ]
        },
        {
            "cell_type": "markdown",
            "metadata": {},
            "source": [
                "<img src=\"imgs/task_2_4_graph_02.png\" width=\"400\" height=\"300\" />"
            ]
        },
        {
            "cell_type": "markdown",
            "metadata": {},
            "source": [
                "# Task 1\n",
                "\n",
                "Write function that calculates value of this graph for any given input vector `x` and set of coefficients $b_1, b_2, c_1, c_2$ packed as vector of weights `w`.\n",
                "In this function also return all the $z$ values."
            ]
        },
        {
            "cell_type": "code",
            "execution_count": 2,
            "metadata": {},
            "outputs": [],
            "source": [
                "import numpy as np\n",
                "\n",
                "## YOU CAN DEFINE ANY FUNCTIONS YOU NEED ##\n",
                "def sigmoid (x):\n",
                "    return 1 / (1 + np.exp(-x))\n",
                "\n",
                "def graph_value(x, w):\n",
                "    # y = x\n",
                "    ## YOUR CODE HERE ##\n",
                "    x1, x2 = x[0], x[1]\n",
                "    b1, b2 = w[0], w[1]\n",
                "    c1, c2 = w[2], w[3]\n",
                "\n",
                "    z= {}\n",
                "\n",
                "    z['z1'] = x1 + b1\n",
                "    z['z2'] = x2 + b2\n",
                "    z['z3'] = sigmoid(z['z1'])\n",
                "    z['z4'] = sigmoid(z['z2'])\n",
                "    z['z5'] = np.tanh(z['z2'])\n",
                "    z['z6'] = z['z5'] * c2\n",
                "    z['z7'] = z['z1'] * z['z4']\n",
                "    z['z8'] = z['z7'] * c1\n",
                "    z['z9'] = z['z6'] * z['z3']\n",
                "    y = z['z9'] + z['z8']\n",
                "    return y, z"
            ]
        },
        {
            "cell_type": "code",
            "execution_count": 3,
            "metadata": {},
            "outputs": [],
            "source": [
                "answer['graph_value'] = [graph_value(**input) for input in inputs]"
            ]
        },
        {
            "cell_type": "markdown",
            "metadata": {},
            "source": [
                "# Task 2\n",
                "\n",
                "In this graph, find all direct derivatives of all the values over $z$ or $x$ or $w$.\n",
                "\n",
                "For example, if $y = z_8 + z_9$, you need to find only $\\partial_{z_9} y$ and $\\partial_{z_8} y$ for that operation.\n",
                "\n",
                "You have to do that for all the intermediate signals.\n",
                "\n",
                "Write the result in form of dictionary, for example, $\\partial_{z_9} y$:\n",
                "\n",
                "```\n",
                "['dy_dz9'] = 1\n",
                "```"
            ]
        },
        {
            "cell_type": "code",
            "execution_count": 4,
            "metadata": {},
            "outputs": [],
            "source": [
                "def graph_derivatives(x, w):\n",
                "    res = {}\n",
                "    ## YOUR CODE HERE ##\n",
                "\n",
                "    return res"
            ]
        },
        {
            "cell_type": "code",
            "execution_count": 5,
            "metadata": {},
            "outputs": [],
            "source": [
                "answer['graph_derivatives'] = [graph_derivatives(**input) for input in inputs]"
            ]
        },
        {
            "cell_type": "markdown",
            "metadata": {},
            "source": [
                "# Task 3\n",
                "\n",
                "Using the values of the derivatives, calculated above:\n",
                "- extract a dictionary of values that are needed to calculate $\\partial_{c_1} y$\n",
                "- calculate that derivative"
            ]
        },
        {
            "cell_type": "code",
            "execution_count": 6,
            "metadata": {},
            "outputs": [],
            "source": [
                "def dy_dc1(x, w):\n",
                "    selected_derivs = {}\n",
                "    dy_dc1 = 0\n",
                "\n",
                "    ## YOUR CODE HERE ##\n",
                "\n",
                "    return selected_derivs, dy_dc1"
            ]
        },
        {
            "cell_type": "code",
            "execution_count": 7,
            "metadata": {},
            "outputs": [],
            "source": [
                "answer['dy_dc1'] = [dy_dc1(**input) for input in inputs]"
            ]
        },
        {
            "cell_type": "markdown",
            "metadata": {},
            "source": [
                "# Task 4\n",
                "Using the values of the derivatives, calculated above:\n",
                "- extract a dictionary of values that are needed to calculate $\\partial_{c_2} y$\n",
                "- calculate that derivative"
            ]
        },
        {
            "cell_type": "code",
            "execution_count": null,
            "metadata": {},
            "outputs": [],
            "source": [
                "def dy_dc2(x, w):\n",
                "    selected_derivs = {}\n",
                "    dy_dc2 = 0\n",
                "\n",
                "    ## YOUR CODE HERE ##\n",
                "\n",
                "    return selected_derivs, dy_dc2"
            ]
        },
        {
            "cell_type": "code",
            "execution_count": null,
            "metadata": {},
            "outputs": [],
            "source": [
                "answer['dy_dc2'] = [dy_dc2(**input) for input in inputs]"
            ]
        },
        {
            "cell_type": "markdown",
            "metadata": {},
            "source": [
                "# Task 5\n",
                "Using the values of the derivatives, calculated above:\n",
                "- extract a dictionary of values that are needed to calculate $\\partial_{b_1} y$\n",
                "- calculate that derivative"
            ]
        },
        {
            "cell_type": "code",
            "execution_count": 10,
            "metadata": {},
            "outputs": [],
            "source": [
                "def dy_db1(x, w):\n",
                "    selected_derivs = {}\n",
                "    dy_db1 = 0\n",
                "\n",
                "    ## YOUR CODE HERE ##\n",
                "\n",
                "    return selected_derivs, dy_db1"
            ]
        },
        {
            "cell_type": "code",
            "execution_count": 11,
            "metadata": {},
            "outputs": [],
            "source": [
                "answer['dy_db1'] = [dy_db1(**input) for input in inputs]"
            ]
        },
        {
            "cell_type": "markdown",
            "metadata": {},
            "source": [
                "# Task 6\n",
                "Using the values of the derivatives, calculated above:\n",
                "- extract a dictionary of values that are needed to calculate $\\partial_{b_2} y$\n",
                "- calculate that derivative"
            ]
        },
        {
            "cell_type": "code",
            "execution_count": 12,
            "metadata": {},
            "outputs": [],
            "source": [
                "def dy_db2(x, w):\n",
                "    selected_derivs = {}\n",
                "    dy_db2 = 0\n",
                "\n",
                "    ## YOUR CODE HERE ##\n",
                "\n",
                "    return selected_derivs, dy_db2"
            ]
        },
        {
            "cell_type": "code",
            "execution_count": 13,
            "metadata": {},
            "outputs": [],
            "source": [
                "answer['dy_db2'] = [dy_db2(**input) for input in inputs]"
            ]
        },
        {
            "cell_type": "code",
            "execution_count": 14,
            "metadata": {},
            "outputs": [],
            "source": [
                "json_tricks.dump(answer, '.answer.json')"
            ]
        }
    ],
    "metadata": {
        "kernelspec": {
            "display_name": "Python (Container)",
            "language": "python",
            "name": "container_env"
        },
        "language_info": {
            "codemirror_mode": {
                "name": "ipython",
                "version": 3
            },
            "file_extension": ".py",
            "mimetype": "text/x-python",
            "name": "python",
            "nbconvert_exporter": "python",
            "pygments_lexer": "ipython3",
            "version": "3.11.13"
        }
    },
    "nbformat": 4,
    "nbformat_minor": 2
}
